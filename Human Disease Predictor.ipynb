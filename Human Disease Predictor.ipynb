{
 "cells": [
  {
   "cell_type": "markdown",
   "metadata": {},
   "source": [
    "# **Human Disease Predictor using Neural Networks with 100% Accuracy**"
   ]
  },
  {
   "cell_type": "markdown",
   "metadata": {},
   "source": [
    "**Importing all the packages:**\n",
    "1. scikit_learn\n",
    "2. pandas\n",
    "3. numpy\n",
    "4. tensorflow\n",
    "5. keras"
   ]
  },
  {
   "cell_type": "code",
   "execution_count": 1,
   "metadata": {
    "_cell_guid": "b1076dfc-b9ad-4769-8c92-a6c4dae69d19",
    "_uuid": "8f2839f25d086af736a60e9eeb907d3b93b6e0e5"
   },
   "outputs": [],
   "source": [
    "import numpy as np # linear algebra\n",
    "import pandas as pd # data processing, CSV file I/O (e.g. pd.read_csv)\n",
    "import tensorflow as tf\n",
    "from tensorflow.keras import Sequential\n",
    "from tensorflow.keras.layers import Dense,Dropout\n",
    "from tensorflow.keras.losses import SparseCategoricalCrossentropy \n",
    "from sklearn.preprocessing import LabelEncoder\n",
    "from sklearn.model_selection import train_test_split\n",
    "from sklearn.metrics import accuracy_score"
   ]
  },
  {
   "cell_type": "markdown",
   "metadata": {},
   "source": [
    "**Extracting Data from CSV File using pandas**"
   ]
  },
  {
   "cell_type": "code",
   "execution_count": 23,
   "metadata": {},
   "outputs": [],
   "source": [
    "training_data = pd.read_csv('Training.csv')\n",
    "training_data =training_data.drop('Unnamed: 133',axis=1)\n",
    "training_data.head(3)\n",
    "testing_data = pd.read_csv('Testing.csv')\n",
    "columns = training_data.columns\n",
    "columns = list(map(str,columns))\n",
    "labels = list(training_data['prognosis'].unique())"
   ]
  },
  {
   "cell_type": "markdown",
   "metadata": {},
   "source": [
    "**Creating a Mapping for Labels to Numbers**"
   ]
  },
  {
   "cell_type": "code",
   "execution_count": 24,
   "metadata": {},
   "outputs": [
    {
     "name": "stdout",
     "output_type": "stream",
     "text": [
      "{'Fungal infection': 0, 'Allergy': 1, 'GERD': 2, 'Chronic cholestasis': 3, 'Drug Reaction': 4, 'Peptic ulcer diseae': 5, 'AIDS': 6, 'Diabetes ': 7, 'Gastroenteritis': 8, 'Bronchial Asthma': 9, 'Hypertension ': 10, 'Migraine': 11, 'Cervical spondylosis': 12, 'Paralysis (brain hemorrhage)': 13, 'Jaundice': 14, 'Malaria': 15, 'Chicken pox': 16, 'Dengue': 17, 'Typhoid': 18, 'hepatitis A': 19, 'Hepatitis B': 20, 'Hepatitis C': 21, 'Hepatitis D': 22, 'Hepatitis E': 23, 'Alcoholic hepatitis': 24, 'Tuberculosis': 25, 'Common Cold': 26, 'Pneumonia': 27, 'Dimorphic hemmorhoids(piles)': 28, 'Heart attack': 29, 'Varicose veins': 30, 'Hypothyroidism': 31, 'Hyperthyroidism': 32, 'Hypoglycemia': 33, 'Osteoarthristis': 34, 'Arthritis': 35, '(vertigo) Paroymsal  Positional Vertigo': 36, 'Acne': 37, 'Urinary tract infection': 38, 'Psoriasis': 39, 'Impetigo': 40}\n"
     ]
    }
   ],
   "source": [
    "mapping = {}\n",
    "i=0\n",
    "for label in labels:\n",
    "    mapping[label] = i\n",
    "    i+=1\n",
    "print(mapping)"
   ]
  },
  {
   "cell_type": "markdown",
   "metadata": {},
   "source": [
    "**Seperating training and testing data features and labels**"
   ]
  },
  {
   "cell_type": "code",
   "execution_count": 42,
   "metadata": {},
   "outputs": [
    {
     "data": {
      "text/plain": [
       "(4920, 132)"
      ]
     },
     "execution_count": 42,
     "metadata": {},
     "output_type": "execute_result"
    }
   ],
   "source": [
    "train_X, train_Y = training_data.drop('prognosis',axis=1),training_data['prognosis']\n",
    "test_X, test_Y = testing_data.drop('prognosis',axis=1),testing_data['prognosis']\n",
    "\n",
    "#Mapping Labels with Numbers\n",
    "train_Y = train_Y.map(mapping)\n",
    "test_Y = test_Y.map(mapping)\n",
    "\n",
    "#Converting Data to a NP Array\n",
    "train_X = np.array(train_X)\n",
    "test_X = np.array(test_X)\n",
    "train_Y = np.array(train_Y)\n",
    "test_Y = np.array(test_Y)"
   ]
  },
  {
   "cell_type": "markdown",
   "metadata": {},
   "source": [
    "**Creating and Training the model**"
   ]
  },
  {
   "cell_type": "code",
   "execution_count": 74,
   "metadata": {},
   "outputs": [
    {
     "name": "stdout",
     "output_type": "stream",
     "text": [
      "Epoch 1/100\n",
      "154/154 [==============================] - 1s 2ms/step - loss: 1.6914\n",
      "Epoch 2/100\n",
      "154/154 [==============================] - 0s 2ms/step - loss: 0.0947\n",
      "Epoch 3/100\n",
      "154/154 [==============================] - 0s 2ms/step - loss: 0.0254\n",
      "Epoch 4/100\n",
      "154/154 [==============================] - 0s 2ms/step - loss: 0.0125\n",
      "Epoch 5/100\n",
      "154/154 [==============================] - 0s 2ms/step - loss: 0.0076\n",
      "Epoch 6/100\n",
      "154/154 [==============================] - 0s 2ms/step - loss: 0.0051\n",
      "Epoch 7/100\n",
      "154/154 [==============================] - 0s 2ms/step - loss: 0.0037\n",
      "Epoch 8/100\n",
      "154/154 [==============================] - 0s 2ms/step - loss: 0.0028\n",
      "Epoch 9/100\n",
      "154/154 [==============================] - 0s 2ms/step - loss: 0.0021\n",
      "Epoch 10/100\n",
      "154/154 [==============================] - 0s 2ms/step - loss: 0.0017\n",
      "Epoch 11/100\n",
      "154/154 [==============================] - 0s 2ms/step - loss: 0.0014\n",
      "Epoch 12/100\n",
      "154/154 [==============================] - 0s 3ms/step - loss: 0.0011\n",
      "Epoch 13/100\n",
      "154/154 [==============================] - 0s 2ms/step - loss: 9.5656e-04\n",
      "Epoch 14/100\n",
      "154/154 [==============================] - 0s 2ms/step - loss: 8.1110e-04\n",
      "Epoch 15/100\n",
      "154/154 [==============================] - 0s 2ms/step - loss: 6.9220e-04\n",
      "Epoch 16/100\n",
      "154/154 [==============================] - 0s 2ms/step - loss: 5.9609e-04\n",
      "Epoch 17/100\n",
      "154/154 [==============================] - 0s 2ms/step - loss: 5.1700e-04\n",
      "Epoch 18/100\n",
      "154/154 [==============================] - 1s 3ms/step - loss: 4.4784e-04\n",
      "Epoch 19/100\n",
      "154/154 [==============================] - 0s 3ms/step - loss: 3.9238e-04\n",
      "Epoch 20/100\n",
      "154/154 [==============================] - 0s 2ms/step - loss: 3.4460e-04\n",
      "Epoch 21/100\n",
      "154/154 [==============================] - 0s 2ms/step - loss: 3.0452e-04\n",
      "Epoch 22/100\n",
      "154/154 [==============================] - 0s 2ms/step - loss: 2.6929e-04\n",
      "Epoch 23/100\n",
      "154/154 [==============================] - 0s 2ms/step - loss: 2.3992e-04\n",
      "Epoch 24/100\n",
      "154/154 [==============================] - 0s 2ms/step - loss: 2.1297e-04\n",
      "Epoch 25/100\n",
      "154/154 [==============================] - 0s 2ms/step - loss: 1.9033e-04\n",
      "Epoch 26/100\n",
      "154/154 [==============================] - 0s 2ms/step - loss: 1.7022e-04\n",
      "Epoch 27/100\n",
      "154/154 [==============================] - 0s 2ms/step - loss: 1.5308e-04\n",
      "Epoch 28/100\n",
      "154/154 [==============================] - 0s 2ms/step - loss: 1.3751e-04\n",
      "Epoch 29/100\n",
      "154/154 [==============================] - 0s 2ms/step - loss: 1.2348e-04\n",
      "Epoch 30/100\n",
      "154/154 [==============================] - 0s 2ms/step - loss: 1.1132e-04\n",
      "Epoch 31/100\n",
      "154/154 [==============================] - 0s 2ms/step - loss: 1.0075e-04\n",
      "Epoch 32/100\n",
      "154/154 [==============================] - 0s 2ms/step - loss: 9.1078e-05\n",
      "Epoch 33/100\n",
      "154/154 [==============================] - 0s 2ms/step - loss: 8.2234e-05\n",
      "Epoch 34/100\n",
      "154/154 [==============================] - 0s 2ms/step - loss: 7.4486e-05\n",
      "Epoch 35/100\n",
      "154/154 [==============================] - 0s 2ms/step - loss: 6.7680e-05\n",
      "Epoch 36/100\n",
      "154/154 [==============================] - 0s 2ms/step - loss: 6.1428e-05\n",
      "Epoch 37/100\n",
      "154/154 [==============================] - 0s 2ms/step - loss: 5.5683e-05\n",
      "Epoch 38/100\n",
      "154/154 [==============================] - 0s 2ms/step - loss: 5.0746e-05\n",
      "Epoch 39/100\n",
      "154/154 [==============================] - 0s 2ms/step - loss: 4.6108e-05\n",
      "Epoch 40/100\n",
      "154/154 [==============================] - 0s 2ms/step - loss: 4.2062e-05\n",
      "Epoch 41/100\n",
      "154/154 [==============================] - 0s 2ms/step - loss: 3.8168e-05\n",
      "Epoch 42/100\n",
      "154/154 [==============================] - 0s 2ms/step - loss: 3.4795e-05\n",
      "Epoch 43/100\n",
      "154/154 [==============================] - 0s 2ms/step - loss: 3.1819e-05\n",
      "Epoch 44/100\n",
      "154/154 [==============================] - 0s 3ms/step - loss: 2.9002e-05\n",
      "Epoch 45/100\n",
      "154/154 [==============================] - 0s 2ms/step - loss: 2.6447e-05\n",
      "Epoch 46/100\n",
      "154/154 [==============================] - 0s 2ms/step - loss: 2.4155e-05\n",
      "Epoch 47/100\n",
      "154/154 [==============================] - 0s 2ms/step - loss: 2.2176e-05\n",
      "Epoch 48/100\n",
      "154/154 [==============================] - 0s 2ms/step - loss: 2.0223e-05\n",
      "Epoch 49/100\n",
      "154/154 [==============================] - 0s 2ms/step - loss: 1.8472e-05\n",
      "Epoch 50/100\n",
      "154/154 [==============================] - 0s 2ms/step - loss: 1.6885e-05\n",
      "Epoch 51/100\n",
      "154/154 [==============================] - 0s 2ms/step - loss: 1.5481e-05\n",
      "Epoch 52/100\n",
      "154/154 [==============================] - 0s 2ms/step - loss: 1.4194e-05\n",
      "Epoch 53/100\n",
      "154/154 [==============================] - 0s 2ms/step - loss: 1.2972e-05\n",
      "Epoch 54/100\n",
      "154/154 [==============================] - 0s 2ms/step - loss: 1.1916e-05\n",
      "Epoch 55/100\n",
      "154/154 [==============================] - 0s 2ms/step - loss: 1.0920e-05\n",
      "Epoch 56/100\n",
      "154/154 [==============================] - 0s 2ms/step - loss: 9.9940e-06\n",
      "Epoch 57/100\n",
      "154/154 [==============================] - 0s 2ms/step - loss: 9.1671e-06\n",
      "Epoch 58/100\n",
      "154/154 [==============================] - 0s 2ms/step - loss: 8.3965e-06\n",
      "Epoch 59/100\n",
      "154/154 [==============================] - 0s 2ms/step - loss: 7.6995e-06\n",
      "Epoch 60/100\n",
      "154/154 [==============================] - 0s 2ms/step - loss: 7.0792e-06\n",
      "Epoch 61/100\n",
      "154/154 [==============================] - 0s 2ms/step - loss: 6.4945e-06\n",
      "Epoch 62/100\n",
      "154/154 [==============================] - 0s 2ms/step - loss: 5.9559e-06\n",
      "Epoch 63/100\n",
      "154/154 [==============================] - 0s 2ms/step - loss: 5.4680e-06\n",
      "Epoch 64/100\n",
      "154/154 [==============================] - 0s 2ms/step - loss: 5.0328e-06\n",
      "Epoch 65/100\n",
      "154/154 [==============================] - 0s 2ms/step - loss: 4.6259e-06\n",
      "Epoch 66/100\n",
      "154/154 [==============================] - 0s 2ms/step - loss: 4.2385e-06\n",
      "Epoch 67/100\n",
      "154/154 [==============================] - 0s 2ms/step - loss: 3.9005e-06\n",
      "Epoch 68/100\n",
      "154/154 [==============================] - 0s 2ms/step - loss: 3.5700e-06\n",
      "Epoch 69/100\n",
      "154/154 [==============================] - 0s 2ms/step - loss: 3.2826e-06\n",
      "Epoch 70/100\n",
      "154/154 [==============================] - 0s 2ms/step - loss: 3.0303e-06\n",
      "Epoch 71/100\n",
      "154/154 [==============================] - 0s 2ms/step - loss: 2.7804e-06\n",
      "Epoch 72/100\n",
      "154/154 [==============================] - 0s 2ms/step - loss: 2.5562e-06\n",
      "Epoch 73/100\n",
      "154/154 [==============================] - 0s 2ms/step - loss: 2.3436e-06\n",
      "Epoch 74/100\n",
      "154/154 [==============================] - 0s 2ms/step - loss: 2.1611e-06\n",
      "Epoch 75/100\n",
      "154/154 [==============================] - 0s 2ms/step - loss: 1.9877e-06\n",
      "Epoch 76/100\n",
      "154/154 [==============================] - 0s 2ms/step - loss: 1.8292e-06\n",
      "Epoch 77/100\n",
      "154/154 [==============================] - 0s 2ms/step - loss: 1.6817e-06\n",
      "Epoch 78/100\n",
      "154/154 [==============================] - 0s 2ms/step - loss: 1.5481e-06\n",
      "Epoch 79/100\n",
      "154/154 [==============================] - 0s 2ms/step - loss: 1.4260e-06\n",
      "Epoch 80/100\n",
      "154/154 [==============================] - 0s 2ms/step - loss: 1.3131e-06\n",
      "Epoch 81/100\n",
      "154/154 [==============================] - 0s 2ms/step - loss: 1.2075e-06\n",
      "Epoch 82/100\n",
      "154/154 [==============================] - 0s 2ms/step - loss: 1.1121e-06\n",
      "Epoch 83/100\n",
      "154/154 [==============================] - 0s 2ms/step - loss: 1.0268e-06\n",
      "Epoch 84/100\n",
      "154/154 [==============================] - 0s 2ms/step - loss: 9.4328e-07\n",
      "Epoch 85/100\n",
      "154/154 [==============================] - 0s 2ms/step - loss: 8.6642e-07\n",
      "Epoch 86/100\n",
      "154/154 [==============================] - 0s 2ms/step - loss: 7.9717e-07\n",
      "Epoch 87/100\n",
      "154/154 [==============================] - 0s 2ms/step - loss: 7.3752e-07\n",
      "Epoch 88/100\n",
      "154/154 [==============================] - 0s 2ms/step - loss: 6.7700e-07\n",
      "Epoch 89/100\n",
      "154/154 [==============================] - 0s 2ms/step - loss: 6.2856e-07\n",
      "Epoch 90/100\n",
      "154/154 [==============================] - 0s 2ms/step - loss: 5.8034e-07\n",
      "Epoch 91/100\n",
      "154/154 [==============================] - 0s 2ms/step - loss: 5.3506e-07\n",
      "Epoch 92/100\n",
      "154/154 [==============================] - 0s 2ms/step - loss: 4.9431e-07\n",
      "Epoch 93/100\n",
      "154/154 [==============================] - 0s 2ms/step - loss: 4.5811e-07\n",
      "Epoch 94/100\n",
      "154/154 [==============================] - 0s 2ms/step - loss: 4.2406e-07\n",
      "Epoch 95/100\n",
      "154/154 [==============================] - 0s 2ms/step - loss: 3.9240e-07\n",
      "Epoch 96/100\n",
      "154/154 [==============================] - 0s 2ms/step - loss: 3.6448e-07\n",
      "Epoch 97/100\n",
      "154/154 [==============================] - 0s 2ms/step - loss: 3.3388e-07\n",
      "Epoch 98/100\n",
      "154/154 [==============================] - 0s 2ms/step - loss: 3.0820e-07\n",
      "Epoch 99/100\n",
      "154/154 [==============================] - 0s 2ms/step - loss: 2.8496e-07\n",
      "Epoch 100/100\n",
      "154/154 [==============================] - 0s 2ms/step - loss: 2.6422e-07\n"
     ]
    },
    {
     "data": {
      "text/plain": [
       "<keras.callbacks.History at 0x192ef577790>"
      ]
     },
     "execution_count": 74,
     "metadata": {},
     "output_type": "execute_result"
    }
   ],
   "source": [
    "model = Sequential([\n",
    "    Dense(132,activation='relu',name=\"input_layer\"),\n",
    "    Dense(42,activation='softmax',name='output_layer')\n",
    "])\n",
    "model.compile(optimizer='adam',loss=SparseCategoricalCrossentropy())\n",
    "model.fit(train_X,train_Y,epochs=100)"
   ]
  },
  {
   "cell_type": "markdown",
   "metadata": {},
   "source": [
    "**Testing the Accuracy**"
   ]
  },
  {
   "cell_type": "code",
   "execution_count": 75,
   "metadata": {},
   "outputs": [
    {
     "name": "stdout",
     "output_type": "stream",
     "text": [
      "154/154 [==============================] - 0s 2ms/step\n",
      "2/2 [==============================] - 0s 3ms/step\n",
      "Accuracy Train: 1.0000\n",
      "Accuracy Test: 1.0000\n"
     ]
    }
   ],
   "source": [
    "predict_Y_train = model.predict(train_X)\n",
    "predict_Y_test = model.predict(test_X)\n",
    "\n",
    "predicted_train_labels = np.argmax(predict_Y_train, axis=1)\n",
    "predicted_test_labels = np.argmax(predict_Y_test, axis=1)\n",
    "\n",
    "train_accuracy = accuracy_score(train_Y, predicted_train_labels)\n",
    "test_accuracy = accuracy_score(test_Y, predicted_test_labels)\n",
    "\n",
    "print(f'Accuracy Train: {train_accuracy:.4f}')\n",
    "print(f'Accuracy Test: {test_accuracy:.4f}')"
   ]
  },
  {
   "cell_type": "markdown",
   "metadata": {},
   "source": [
    "**Saving The Model**"
   ]
  },
  {
   "cell_type": "code",
   "execution_count": 78,
   "metadata": {},
   "outputs": [],
   "source": [
    "from keras.models import load_model\n",
    "\n",
    "model.save('Disease_Predictor.h5')"
   ]
  },
  {
   "cell_type": "markdown",
   "metadata": {},
   "source": [
    "**Making Predictions for an Input**"
   ]
  },
  {
   "cell_type": "code",
   "execution_count": 76,
   "metadata": {},
   "outputs": [
    {
     "name": "stdout",
     "output_type": "stream",
     "text": [
      "1/1 [==============================] - 0s 53ms/step\n",
      "[ 0 40 37 30 39]\n"
     ]
    }
   ],
   "source": [
    "input = ['skin_rash', 'nodal_skin_eruptions']\n",
    "ip_data = np.zeros(132)\n",
    "for i in range(132):\n",
    "    for j in range(len(input)):\n",
    "        if columns[i]==input[j]:\n",
    "            ip_data[i]=1\n",
    "ip_data = np.reshape(i_data, (1, 132))\n",
    "res = model.predict(i_data)\n",
    "top5_indices = np.argsort(res[0])[-5:][::-1]\n",
    "print(top5_indices)"
   ]
  },
  {
   "cell_type": "markdown",
   "metadata": {},
   "source": [
    "**Printing Labels based on Predictions**"
   ]
  },
  {
   "cell_type": "code",
   "execution_count": 77,
   "metadata": {},
   "outputs": [
    {
     "name": "stdout",
     "output_type": "stream",
     "text": [
      "Probable Diseases:\n",
      "* Fungal infection\n",
      "* Varicose veins\n",
      "* Acne\n",
      "* Psoriasis\n",
      "* Impetigo\n"
     ]
    }
   ],
   "source": [
    "print(\"Probable Diseases:\")\n",
    "for key,value in mapping.items():\n",
    "    for i in range(5):\n",
    "        if value==top5_indices[i]:\n",
    "            print(\"*\",key)"
   ]
  },
  {
   "cell_type": "markdown",
   "metadata": {},
   "source": [
    "**Thank You**"
   ]
  }
 ],
 "metadata": {
  "kaggle": {
   "accelerator": "none",
   "dataSources": [
    {
     "datasetId": 4398266,
     "sourceId": 7551506,
     "sourceType": "datasetVersion"
    }
   ],
   "dockerImageVersionId": 30646,
   "isGpuEnabled": false,
   "isInternetEnabled": false,
   "language": "python",
   "sourceType": "notebook"
  },
  "kernelspec": {
   "display_name": "Python 3 (ipykernel)",
   "language": "python",
   "name": "python3"
  },
  "language_info": {
   "codemirror_mode": {
    "name": "ipython",
    "version": 3
   },
   "file_extension": ".py",
   "mimetype": "text/x-python",
   "name": "python",
   "nbconvert_exporter": "python",
   "pygments_lexer": "ipython3",
   "version": "3.9.18"
  }
 },
 "nbformat": 4,
 "nbformat_minor": 4
}
